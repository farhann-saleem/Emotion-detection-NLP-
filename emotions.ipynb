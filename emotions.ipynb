{
 "cells": [
  {
   "cell_type": "code",
   "execution_count": null,
   "id": "691dd4da",
   "metadata": {},
   "outputs": [],
   "source": [
    "import pandas as pd\n",
    "import numpy as np\n",
    "import matplotlib.pyplot as plt\n",
    "import seaborn as sns\n"
   ]
  },
  {
   "cell_type": "code",
   "execution_count": 2,
   "id": "40887bb8",
   "metadata": {},
   "outputs": [],
   "source": [
    "df=pd.read_csv('train.txt',sep=';' , header= None , names=['text','emotions'])"
   ]
  },
  {
   "cell_type": "code",
   "execution_count": 3,
   "id": "7eeac667",
   "metadata": {},
   "outputs": [
    {
     "data": {
      "application/vnd.microsoft.datawrangler.viewer.v0+json": {
       "columns": [
        {
         "name": "index",
         "rawType": "int64",
         "type": "integer"
        },
        {
         "name": "text",
         "rawType": "object",
         "type": "string"
        },
        {
         "name": "emotions",
         "rawType": "object",
         "type": "string"
        }
       ],
       "ref": "7a49aac3-0825-4e2e-86a1-2cc797e56147",
       "rows": [
        [
         "0",
         "i didnt feel humiliated",
         "sadness"
        ],
        [
         "1",
         "i can go from feeling so hopeless to so damned hopeful just from being around someone who cares and is awake",
         "sadness"
        ],
        [
         "2",
         "im grabbing a minute to post i feel greedy wrong",
         "anger"
        ],
        [
         "3",
         "i am ever feeling nostalgic about the fireplace i will know that it is still on the property",
         "love"
        ],
        [
         "4",
         "i am feeling grouchy",
         "anger"
        ]
       ],
       "shape": {
        "columns": 2,
        "rows": 5
       }
      },
      "text/html": [
       "<div>\n",
       "<style scoped>\n",
       "    .dataframe tbody tr th:only-of-type {\n",
       "        vertical-align: middle;\n",
       "    }\n",
       "\n",
       "    .dataframe tbody tr th {\n",
       "        vertical-align: top;\n",
       "    }\n",
       "\n",
       "    .dataframe thead th {\n",
       "        text-align: right;\n",
       "    }\n",
       "</style>\n",
       "<table border=\"1\" class=\"dataframe\">\n",
       "  <thead>\n",
       "    <tr style=\"text-align: right;\">\n",
       "      <th></th>\n",
       "      <th>text</th>\n",
       "      <th>emotions</th>\n",
       "    </tr>\n",
       "  </thead>\n",
       "  <tbody>\n",
       "    <tr>\n",
       "      <th>0</th>\n",
       "      <td>i didnt feel humiliated</td>\n",
       "      <td>sadness</td>\n",
       "    </tr>\n",
       "    <tr>\n",
       "      <th>1</th>\n",
       "      <td>i can go from feeling so hopeless to so damned...</td>\n",
       "      <td>sadness</td>\n",
       "    </tr>\n",
       "    <tr>\n",
       "      <th>2</th>\n",
       "      <td>im grabbing a minute to post i feel greedy wrong</td>\n",
       "      <td>anger</td>\n",
       "    </tr>\n",
       "    <tr>\n",
       "      <th>3</th>\n",
       "      <td>i am ever feeling nostalgic about the fireplac...</td>\n",
       "      <td>love</td>\n",
       "    </tr>\n",
       "    <tr>\n",
       "      <th>4</th>\n",
       "      <td>i am feeling grouchy</td>\n",
       "      <td>anger</td>\n",
       "    </tr>\n",
       "  </tbody>\n",
       "</table>\n",
       "</div>"
      ],
      "text/plain": [
       "                                                text emotions\n",
       "0                            i didnt feel humiliated  sadness\n",
       "1  i can go from feeling so hopeless to so damned...  sadness\n",
       "2   im grabbing a minute to post i feel greedy wrong    anger\n",
       "3  i am ever feeling nostalgic about the fireplac...     love\n",
       "4                               i am feeling grouchy    anger"
      ]
     },
     "execution_count": 3,
     "metadata": {},
     "output_type": "execute_result"
    }
   ],
   "source": [
    "df.head()"
   ]
  },
  {
   "cell_type": "code",
   "execution_count": 5,
   "id": "5748f892",
   "metadata": {},
   "outputs": [
    {
     "data": {
      "application/vnd.microsoft.datawrangler.viewer.v0+json": {
       "columns": [
        {
         "name": "index",
         "rawType": "object",
         "type": "string"
        },
        {
         "name": "0",
         "rawType": "int64",
         "type": "integer"
        }
       ],
       "ref": "ec5ae6b1-ef51-4909-980e-9cc37e544e57",
       "rows": [
        [
         "text",
         "0"
        ],
        [
         "emotions",
         "0"
        ]
       ],
       "shape": {
        "columns": 1,
        "rows": 2
       }
      },
      "text/plain": [
       "text        0\n",
       "emotions    0\n",
       "dtype: int64"
      ]
     },
     "execution_count": 5,
     "metadata": {},
     "output_type": "execute_result"
    }
   ],
   "source": [
    "df.isnull().sum()"
   ]
  },
  {
   "cell_type": "code",
   "execution_count": 8,
   "id": "d4aea74d",
   "metadata": {},
   "outputs": [],
   "source": [
    "unique_emotions=df['emotions'].unique()\n",
    "emotion_numbers={}\n",
    "i=0\n",
    "for emo in unique_emotions:\n",
    "    emotion_numbers[emo]=i\n",
    "    i+=1\n",
    "\n",
    "df['emotions']=df['emotions'].map(emotion_numbers)"
   ]
  },
  {
   "cell_type": "code",
   "execution_count": 9,
   "id": "3c01b780",
   "metadata": {},
   "outputs": [
    {
     "data": {
      "application/vnd.microsoft.datawrangler.viewer.v0+json": {
       "columns": [
        {
         "name": "index",
         "rawType": "int64",
         "type": "integer"
        },
        {
         "name": "text",
         "rawType": "object",
         "type": "string"
        },
        {
         "name": "emotions",
         "rawType": "int64",
         "type": "integer"
        }
       ],
       "ref": "63f47bf2-1fb4-458a-b8e0-b86adb2ccbde",
       "rows": [
        [
         "0",
         "i didnt feel humiliated",
         "0"
        ],
        [
         "1",
         "i can go from feeling so hopeless to so damned hopeful just from being around someone who cares and is awake",
         "0"
        ],
        [
         "2",
         "im grabbing a minute to post i feel greedy wrong",
         "1"
        ],
        [
         "3",
         "i am ever feeling nostalgic about the fireplace i will know that it is still on the property",
         "2"
        ],
        [
         "4",
         "i am feeling grouchy",
         "1"
        ],
        [
         "5",
         "ive been feeling a little burdened lately wasnt sure why that was",
         "0"
        ],
        [
         "6",
         "ive been taking or milligrams or times recommended amount and ive fallen asleep a lot faster but i also feel like so funny",
         "3"
        ],
        [
         "7",
         "i feel as confused about life as a teenager or as jaded as a year old man",
         "4"
        ],
        [
         "8",
         "i have been with petronas for years i feel that petronas has performed well and made a huge profit",
         "5"
        ],
        [
         "9",
         "i feel romantic too",
         "2"
        ],
        [
         "10",
         "i feel like i have to make the suffering i m seeing mean something",
         "0"
        ],
        [
         "11",
         "i do feel that running is a divine experience and that i can expect to have some type of spiritual encounter",
         "5"
        ],
        [
         "12",
         "i think it s the easiest time of year to feel dissatisfied",
         "1"
        ],
        [
         "13",
         "i feel low energy i m just thirsty",
         "0"
        ],
        [
         "14",
         "i have immense sympathy with the general point but as a possible proto writer trying to find time to write in the corners of life and with no sign of an agent let alone a publishing contract this feels a little precious",
         "5"
        ],
        [
         "15",
         "i do not feel reassured anxiety is on each side",
         "5"
        ],
        [
         "16",
         "i didnt really feel that embarrassed",
         "0"
        ],
        [
         "17",
         "i feel pretty pathetic most of the time",
         "0"
        ],
        [
         "18",
         "i started feeling sentimental about dolls i had as a child and so began a collection of vintage barbie dolls from the sixties",
         "0"
        ],
        [
         "19",
         "i now feel compromised and skeptical of the value of every unit of work i put in",
         "4"
        ],
        [
         "20",
         "i feel irritated and rejected without anyone doing anything or saying anything",
         "1"
        ],
        [
         "21",
         "i am feeling completely overwhelmed i have two strategies that help me to feel grounded pour my heart out in my journal in the form of a letter to god and then end with a list of five things i am most grateful for",
         "4"
        ],
        [
         "22",
         "i have the feeling she was amused and delighted",
         "5"
        ],
        [
         "23",
         "i was able to help chai lifeline with your support and encouragement is a great feeling and i am so glad you were able to help me",
         "5"
        ],
        [
         "24",
         "i already feel like i fucked up though because i dont usually eat at all in the morning",
         "1"
        ],
        [
         "25",
         "i still love my so and wish the best for him i can no longer tolerate the effect that bm has on our lives and the fact that is has turned my so into a bitter angry person who is not always particularly kind to the people around him when he is feeling stressed",
         "0"
        ],
        [
         "26",
         "i feel so inhibited in someone elses kitchen like im painting on someone elses picture",
         "0"
        ],
        [
         "27",
         "i become overwhelmed and feel defeated",
         "0"
        ],
        [
         "28",
         "i feel kinda appalled that she feels like she needs to explain in wide and lenghth her body measures etc pp",
         "1"
        ],
        [
         "29",
         "i feel more superior dead chicken or grieving child",
         "5"
        ],
        [
         "30",
         "i get giddy over feeling elegant in a perfectly fitted pencil skirt",
         "5"
        ],
        [
         "31",
         "i remember feeling acutely distressed for a few days",
         "4"
        ],
        [
         "32",
         "i have seen heard and read over the past couple of days i am left feeling impressed by more than a few companies",
         "3"
        ],
        [
         "33",
         "i climbed the hill feeling frustrated that id pretty much paced entirely wrong for this course and that a factor that has never ever hampered me had made such a dent in the day",
         "1"
        ],
        [
         "34",
         "i can t imagine a real life scenario where i would be emotionally connected enough with someone to feel totally accepted and safe where it it morally acceptable for me to have close and prolonged physical contact and where sex won t be expected subsequently",
         "5"
        ],
        [
         "35",
         "i am not sure what would make me feel content if anything",
         "5"
        ],
        [
         "36",
         "i have been feeling the need to be creative",
         "5"
        ],
        [
         "37",
         "i do however want you to know that if something someone is causing you to feel less then your splendid self step away from them",
         "5"
        ],
        [
         "38",
         "i feel a bit rude writing to an elderly gentleman to ask for gifts because i feel a bit greedy but what is christmas about if not mild greed",
         "1"
        ],
        [
         "39",
         "i need you i need someone i need to be protected and feel safe i am small now i find myself in a season of no words",
         "5"
        ],
        [
         "40",
         "i plan to share my everyday life stories traveling adventures inspirations and handmade creations with you and hope you will also feel inspired",
         "5"
        ],
        [
         "41",
         "i already have my christmas trees up i got two and am feeling festive which i m sure is spurring me to get started on this book",
         "5"
        ],
        [
         "42",
         "ive worn it once on its own with a little concealer and for the days im feeling brave but dont want to be pale then its perfect",
         "5"
        ],
        [
         "43",
         "i feel very strongly passionate about when some jerk off decides to poke and make fun of us",
         "5"
        ],
        [
         "44",
         "i was feeling so discouraged we are already robbing peter to pay paul to get our cow this year but we cant afford to not get the cow this way",
         "0"
        ],
        [
         "45",
         "i was feeling listless from the need of new things something different",
         "0"
        ],
        [
         "46",
         "i lost my special mind but don t worry i m still sane i just wanted you to feel what i felt while reading this book i don t know how many times it was said that sam was special but i can guarantee you it was many more times than what i used in that paragraph did i tell you she was special",
         "5"
        ],
        [
         "47",
         "i can t let go of that sad feeling that i want to be accepted here in this first home of mine",
         "2"
        ],
        [
         "48",
         "on a boat trip to denmark",
         "5"
        ],
        [
         "49",
         "i stopped feeling cold and began feeling hot",
         "1"
        ]
       ],
       "shape": {
        "columns": 2,
        "rows": 16000
       }
      },
      "text/html": [
       "<div>\n",
       "<style scoped>\n",
       "    .dataframe tbody tr th:only-of-type {\n",
       "        vertical-align: middle;\n",
       "    }\n",
       "\n",
       "    .dataframe tbody tr th {\n",
       "        vertical-align: top;\n",
       "    }\n",
       "\n",
       "    .dataframe thead th {\n",
       "        text-align: right;\n",
       "    }\n",
       "</style>\n",
       "<table border=\"1\" class=\"dataframe\">\n",
       "  <thead>\n",
       "    <tr style=\"text-align: right;\">\n",
       "      <th></th>\n",
       "      <th>text</th>\n",
       "      <th>emotions</th>\n",
       "    </tr>\n",
       "  </thead>\n",
       "  <tbody>\n",
       "    <tr>\n",
       "      <th>0</th>\n",
       "      <td>i didnt feel humiliated</td>\n",
       "      <td>0</td>\n",
       "    </tr>\n",
       "    <tr>\n",
       "      <th>1</th>\n",
       "      <td>i can go from feeling so hopeless to so damned...</td>\n",
       "      <td>0</td>\n",
       "    </tr>\n",
       "    <tr>\n",
       "      <th>2</th>\n",
       "      <td>im grabbing a minute to post i feel greedy wrong</td>\n",
       "      <td>1</td>\n",
       "    </tr>\n",
       "    <tr>\n",
       "      <th>3</th>\n",
       "      <td>i am ever feeling nostalgic about the fireplac...</td>\n",
       "      <td>2</td>\n",
       "    </tr>\n",
       "    <tr>\n",
       "      <th>4</th>\n",
       "      <td>i am feeling grouchy</td>\n",
       "      <td>1</td>\n",
       "    </tr>\n",
       "    <tr>\n",
       "      <th>...</th>\n",
       "      <td>...</td>\n",
       "      <td>...</td>\n",
       "    </tr>\n",
       "    <tr>\n",
       "      <th>15995</th>\n",
       "      <td>i just had a very brief time in the beanbag an...</td>\n",
       "      <td>0</td>\n",
       "    </tr>\n",
       "    <tr>\n",
       "      <th>15996</th>\n",
       "      <td>i am now turning and i feel pathetic that i am...</td>\n",
       "      <td>0</td>\n",
       "    </tr>\n",
       "    <tr>\n",
       "      <th>15997</th>\n",
       "      <td>i feel strong and good overall</td>\n",
       "      <td>5</td>\n",
       "    </tr>\n",
       "    <tr>\n",
       "      <th>15998</th>\n",
       "      <td>i feel like this was such a rude comment and i...</td>\n",
       "      <td>1</td>\n",
       "    </tr>\n",
       "    <tr>\n",
       "      <th>15999</th>\n",
       "      <td>i know a lot but i feel so stupid because i ca...</td>\n",
       "      <td>0</td>\n",
       "    </tr>\n",
       "  </tbody>\n",
       "</table>\n",
       "<p>16000 rows × 2 columns</p>\n",
       "</div>"
      ],
      "text/plain": [
       "                                                    text  emotions\n",
       "0                                i didnt feel humiliated         0\n",
       "1      i can go from feeling so hopeless to so damned...         0\n",
       "2       im grabbing a minute to post i feel greedy wrong         1\n",
       "3      i am ever feeling nostalgic about the fireplac...         2\n",
       "4                                   i am feeling grouchy         1\n",
       "...                                                  ...       ...\n",
       "15995  i just had a very brief time in the beanbag an...         0\n",
       "15996  i am now turning and i feel pathetic that i am...         0\n",
       "15997                     i feel strong and good overall         5\n",
       "15998  i feel like this was such a rude comment and i...         1\n",
       "15999  i know a lot but i feel so stupid because i ca...         0\n",
       "\n",
       "[16000 rows x 2 columns]"
      ]
     },
     "execution_count": 9,
     "metadata": {},
     "output_type": "execute_result"
    }
   ],
   "source": [
    "df"
   ]
  },
  {
   "cell_type": "code",
   "execution_count": 10,
   "id": "a161eddf",
   "metadata": {},
   "outputs": [],
   "source": [
    "df['text']=df['text'].apply(lambda x : x.lower())"
   ]
  },
  {
   "cell_type": "code",
   "execution_count": 12,
   "id": "e5af57b2",
   "metadata": {},
   "outputs": [],
   "source": [
    "import string \n"
   ]
  },
  {
   "cell_type": "code",
   "execution_count": 13,
   "id": "7348cc30",
   "metadata": {},
   "outputs": [],
   "source": [
    "def remove_punct(txt):\n",
    "    return txt.translate(str.maketrans('','',string.punctuation))"
   ]
  },
  {
   "cell_type": "code",
   "execution_count": 14,
   "id": "6f096e1b",
   "metadata": {},
   "outputs": [],
   "source": [
    "df['text']= df['text'].apply(remove_punct)"
   ]
  },
  {
   "cell_type": "code",
   "execution_count": null,
   "id": "553dffc3",
   "metadata": {},
   "outputs": [],
   "source": [
    "def remove_number(txt):\n",
    "    new= ''\n",
    "    for i in txt:\n",
    "        if not  i.isdigit():\n",
    "            new=new +i\n",
    "    return new\n",
    "\n",
    "df['text']=df['text'].apply(remove_number)"
   ]
  },
  {
   "cell_type": "code",
   "execution_count": 18,
   "id": "6756ce75",
   "metadata": {},
   "outputs": [],
   "source": [
    "def remove_emogi(txt):\n",
    "    new=''\n",
    "    for i in txt:\n",
    "        if i.isascii():\n",
    "            new += i\n",
    "    return new\n",
    "\n",
    "df['text']=df['text'].apply(remove_emogi) "
   ]
  },
  {
   "cell_type": "code",
   "execution_count": 32,
   "id": "ca44b5ef",
   "metadata": {},
   "outputs": [],
   "source": [
    "import nltk\n",
    "from nltk.corpus import stopwords\n",
    "from nltk.tokenize import word_tokenize"
   ]
  },
  {
   "cell_type": "code",
   "execution_count": 26,
   "id": "85dbfc39",
   "metadata": {},
   "outputs": [
    {
     "name": "stderr",
     "output_type": "stream",
     "text": [
      "[nltk_data] Downloading package punkt to\n",
      "[nltk_data]     C:\\Users\\lenovo\\AppData\\Roaming\\nltk_data...\n",
      "[nltk_data]   Package punkt is already up-to-date!\n",
      "[nltk_data] Downloading package stopwords to\n",
      "[nltk_data]     C:\\Users\\lenovo\\AppData\\Roaming\\nltk_data...\n",
      "[nltk_data]   Package stopwords is already up-to-date!\n"
     ]
    },
    {
     "data": {
      "text/plain": [
       "True"
      ]
     },
     "execution_count": 26,
     "metadata": {},
     "output_type": "execute_result"
    }
   ],
   "source": [
    "nltk.download('punkt')\n",
    "nltk.download('stopwords')"
   ]
  },
  {
   "cell_type": "code",
   "execution_count": 33,
   "id": "ed6474de",
   "metadata": {},
   "outputs": [
    {
     "data": {
      "text/plain": [
       "{'a',\n",
       " 'about',\n",
       " 'above',\n",
       " 'after',\n",
       " 'again',\n",
       " 'against',\n",
       " 'ain',\n",
       " 'all',\n",
       " 'am',\n",
       " 'an',\n",
       " 'and',\n",
       " 'any',\n",
       " 'are',\n",
       " 'aren',\n",
       " \"aren't\",\n",
       " 'as',\n",
       " 'at',\n",
       " 'be',\n",
       " 'because',\n",
       " 'been',\n",
       " 'before',\n",
       " 'being',\n",
       " 'below',\n",
       " 'between',\n",
       " 'both',\n",
       " 'but',\n",
       " 'by',\n",
       " 'can',\n",
       " 'couldn',\n",
       " \"couldn't\",\n",
       " 'd',\n",
       " 'did',\n",
       " 'didn',\n",
       " \"didn't\",\n",
       " 'do',\n",
       " 'does',\n",
       " 'doesn',\n",
       " \"doesn't\",\n",
       " 'doing',\n",
       " 'don',\n",
       " \"don't\",\n",
       " 'down',\n",
       " 'during',\n",
       " 'each',\n",
       " 'few',\n",
       " 'for',\n",
       " 'from',\n",
       " 'further',\n",
       " 'had',\n",
       " 'hadn',\n",
       " \"hadn't\",\n",
       " 'has',\n",
       " 'hasn',\n",
       " \"hasn't\",\n",
       " 'have',\n",
       " 'haven',\n",
       " \"haven't\",\n",
       " 'having',\n",
       " 'he',\n",
       " \"he'd\",\n",
       " \"he'll\",\n",
       " \"he's\",\n",
       " 'her',\n",
       " 'here',\n",
       " 'hers',\n",
       " 'herself',\n",
       " 'him',\n",
       " 'himself',\n",
       " 'his',\n",
       " 'how',\n",
       " 'i',\n",
       " \"i'd\",\n",
       " \"i'll\",\n",
       " \"i'm\",\n",
       " \"i've\",\n",
       " 'if',\n",
       " 'in',\n",
       " 'into',\n",
       " 'is',\n",
       " 'isn',\n",
       " \"isn't\",\n",
       " 'it',\n",
       " \"it'd\",\n",
       " \"it'll\",\n",
       " \"it's\",\n",
       " 'its',\n",
       " 'itself',\n",
       " 'just',\n",
       " 'll',\n",
       " 'm',\n",
       " 'ma',\n",
       " 'me',\n",
       " 'mightn',\n",
       " \"mightn't\",\n",
       " 'more',\n",
       " 'most',\n",
       " 'mustn',\n",
       " \"mustn't\",\n",
       " 'my',\n",
       " 'myself',\n",
       " 'needn',\n",
       " \"needn't\",\n",
       " 'no',\n",
       " 'nor',\n",
       " 'not',\n",
       " 'now',\n",
       " 'o',\n",
       " 'of',\n",
       " 'off',\n",
       " 'on',\n",
       " 'once',\n",
       " 'only',\n",
       " 'or',\n",
       " 'other',\n",
       " 'our',\n",
       " 'ours',\n",
       " 'ourselves',\n",
       " 'out',\n",
       " 'over',\n",
       " 'own',\n",
       " 're',\n",
       " 's',\n",
       " 'same',\n",
       " 'shan',\n",
       " \"shan't\",\n",
       " 'she',\n",
       " \"she'd\",\n",
       " \"she'll\",\n",
       " \"she's\",\n",
       " 'should',\n",
       " \"should've\",\n",
       " 'shouldn',\n",
       " \"shouldn't\",\n",
       " 'so',\n",
       " 'some',\n",
       " 'such',\n",
       " 't',\n",
       " 'than',\n",
       " 'that',\n",
       " \"that'll\",\n",
       " 'the',\n",
       " 'their',\n",
       " 'theirs',\n",
       " 'them',\n",
       " 'themselves',\n",
       " 'then',\n",
       " 'there',\n",
       " 'these',\n",
       " 'they',\n",
       " \"they'd\",\n",
       " \"they'll\",\n",
       " \"they're\",\n",
       " \"they've\",\n",
       " 'this',\n",
       " 'those',\n",
       " 'through',\n",
       " 'to',\n",
       " 'too',\n",
       " 'under',\n",
       " 'until',\n",
       " 'up',\n",
       " 've',\n",
       " 'very',\n",
       " 'was',\n",
       " 'wasn',\n",
       " \"wasn't\",\n",
       " 'we',\n",
       " \"we'd\",\n",
       " \"we'll\",\n",
       " \"we're\",\n",
       " \"we've\",\n",
       " 'were',\n",
       " 'weren',\n",
       " \"weren't\",\n",
       " 'what',\n",
       " 'when',\n",
       " 'where',\n",
       " 'which',\n",
       " 'while',\n",
       " 'who',\n",
       " 'whom',\n",
       " 'why',\n",
       " 'will',\n",
       " 'with',\n",
       " 'won',\n",
       " \"won't\",\n",
       " 'wouldn',\n",
       " \"wouldn't\",\n",
       " 'y',\n",
       " 'you',\n",
       " \"you'd\",\n",
       " \"you'll\",\n",
       " \"you're\",\n",
       " \"you've\",\n",
       " 'your',\n",
       " 'yours',\n",
       " 'yourself',\n",
       " 'yourselves'}"
      ]
     },
     "execution_count": 33,
     "metadata": {},
     "output_type": "execute_result"
    }
   ],
   "source": [
    "stop_words=set(stopwords.words('english'))\n",
    "stop_words"
   ]
  },
  {
   "cell_type": "code",
   "execution_count": 22,
   "id": "331c0fd5",
   "metadata": {},
   "outputs": [
    {
     "data": {
      "text/plain": [
       "'i can go from feeling so hopeless to so damned hopeful just from being around someone who cares and is awake'"
      ]
     },
     "execution_count": 22,
     "metadata": {},
     "output_type": "execute_result"
    }
   ],
   "source": [
    "df.loc[1]['text']"
   ]
  },
  {
   "cell_type": "code",
   "execution_count": 36,
   "id": "8a306862",
   "metadata": {},
   "outputs": [],
   "source": [
    "def remove(txt):\n",
    "    words = txt.split()\n",
    "    cleaned = [i for i in words if i.lower() not in stop_words]  # also convert to lowercase\n",
    "    return ' '.join(cleaned)\n",
    "\n"
   ]
  },
  {
   "cell_type": "code",
   "execution_count": 38,
   "id": "145682fd",
   "metadata": {},
   "outputs": [],
   "source": [
    "df['text'] = df['text'].apply(remove)\n"
   ]
  },
  {
   "cell_type": "code",
   "execution_count": 39,
   "id": "446f506f",
   "metadata": {},
   "outputs": [
    {
     "data": {
      "text/plain": [
       "'go feeling hopeless damned hopeful around someone cares awake'"
      ]
     },
     "execution_count": 39,
     "metadata": {},
     "output_type": "execute_result"
    }
   ],
   "source": [
    "df.loc[1]['text']"
   ]
  },
  {
   "cell_type": "code",
   "execution_count": null,
   "id": "858352ff",
   "metadata": {},
   "outputs": [],
   "source": []
  }
 ],
 "metadata": {
  "kernelspec": {
   "display_name": "Python 3",
   "language": "python",
   "name": "python3"
  },
  "language_info": {
   "codemirror_mode": {
    "name": "ipython",
    "version": 3
   },
   "file_extension": ".py",
   "mimetype": "text/x-python",
   "name": "python",
   "nbconvert_exporter": "python",
   "pygments_lexer": "ipython3",
   "version": "3.13.2"
  }
 },
 "nbformat": 4,
 "nbformat_minor": 5
}
